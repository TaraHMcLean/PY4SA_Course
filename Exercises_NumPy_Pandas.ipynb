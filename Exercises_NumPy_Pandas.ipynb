{
 "cells": [
  {
   "cell_type": "markdown",
   "id": "22251e58-78c4-44bf-b39e-a3e7619120ee",
   "metadata": {},
   "source": [
    "# Python for Spatial Analysis\n",
    "## Second part of the module of GG3209 Spatial Analysis with GIS.\n",
    "### Notebook to practice NumPy and Pandas - Exercises\n",
    "\n",
    "---\n",
    "Dr Fernando Benitez -  University of St Andrews - School of Geography and Sustainable Development - First Iteration 2023 v.1.0 "
   ]
  },
  {
   "cell_type": "markdown",
   "id": "eaf0b951",
   "metadata": {},
   "source": [
    "# Practicing NumPy"
   ]
  },
  {
   "cell_type": "markdown",
   "id": "36aaf97a",
   "metadata": {},
   "source": [
    "## 2.0 \n",
    "Import numpy under the alias `np`."
   ]
  },
  {
   "cell_type": "code",
   "execution_count": 2,
   "id": "51aa53cd",
   "metadata": {},
   "outputs": [],
   "source": [
    "import numpy as np"
   ]
  },
  {
   "cell_type": "markdown",
   "id": "10df0fb9",
   "metadata": {},
   "source": [
    "## 2.1 \n",
    "\n",
    "Create the following arrays:\n",
    "\n",
    "* Create an array of 10 ones.\n",
    "\n",
    "* Create an array of the integers 1 to 20.\n",
    "\n",
    "* Create a 5 x 5 matrix of ones with a dtype int."
   ]
  },
  {
   "cell_type": "code",
   "execution_count": 7,
   "id": "5a1b83d1",
   "metadata": {},
   "outputs": [
    {
     "name": "stdout",
     "output_type": "stream",
     "text": [
      "[1. 1. 1. 1. 1. 1. 1. 1. 1. 1.]\n",
      "[ 1  2  3  4  5  6  7  8  9 10 11 12 13 14 15 16 17 18 19]\n",
      "[[1 1 1 1 1]\n",
      " [1 1 1 1 1]\n",
      " [1 1 1 1 1]\n",
      " [1 1 1 1 1]\n",
      " [1 1 1 1 1]]\n"
     ]
    }
   ],
   "source": [
    "\n",
    "array_10_ones = np.ones (10)\n",
    "print(array_10_ones)\n",
    "\n",
    "array_integers = np.arange(1, 20, 1, dtype=\"int\")\n",
    "print(array_integers)\n",
    "\n",
    "array_matrix = np.ones((5, 5), dtype=\"int\")\n",
    "print(array_matrix)"
   ]
  },
  {
   "cell_type": "markdown",
   "id": "f4d5f95c",
   "metadata": {},
   "source": [
    "## 2.2 \n",
    "Use numpy to:\n",
    "1. Create an 3D matrix of 3 x 3 x 3 full of random numbers drawn from a standard normal distribution (hint: `np.random.randn()`)\n",
    "2. Reshape the above array into shape (27,)"
   ]
  },
  {
   "cell_type": "code",
   "execution_count": 12,
   "id": "ac3df66e",
   "metadata": {},
   "outputs": [
    {
     "name": "stdout",
     "output_type": "stream",
     "text": [
      "[[[ 0.92058582  3.42450885  0.80336424]\n",
      "  [ 0.73260101  0.09717174  0.28994826]\n",
      "  [ 0.47066953  0.86834863 -1.33091729]]\n",
      "\n",
      " [[ 1.13508096  0.54739089  1.94854309]\n",
      "  [-0.53145796  0.54933631  0.2295084 ]\n",
      "  [ 1.20899334  0.11221143  1.40486004]]\n",
      "\n",
      " [[-0.375712    0.97009708 -1.30663762]\n",
      "  [-1.51236657 -2.44170793 -0.83044281]\n",
      "  [ 1.69354856 -0.23990784 -0.84769597]]]\n",
      "two\n",
      "[ 0.92058582  3.42450885  0.80336424  0.73260101  0.09717174  0.28994826\n",
      "  0.47066953  0.86834863 -1.33091729  1.13508096  0.54739089  1.94854309\n",
      " -0.53145796  0.54933631  0.2295084   1.20899334  0.11221143  1.40486004\n",
      " -0.375712    0.97009708 -1.30663762 -1.51236657 -2.44170793 -0.83044281\n",
      "  1.69354856 -0.23990784 -0.84769597]\n"
     ]
    }
   ],
   "source": [
    "arr6 = np.random.randn(3, 3, 3)\n",
    "print(arr6)\n",
    "\n",
    "print(\"two\")\n",
    "arr6e = arr6.reshape(27)\n",
    "print(arr6e)"
   ]
  },
  {
   "cell_type": "markdown",
   "id": "5bbbbc97",
   "metadata": {},
   "source": [
    "# 2.3 \n",
    "\n",
    "Create an array of 20 linearly spaced numbers between 1 and 10."
   ]
  },
  {
   "cell_type": "code",
   "execution_count": 13,
   "id": "3304c495",
   "metadata": {},
   "outputs": [
    {
     "name": "stdout",
     "output_type": "stream",
     "text": [
      "[ 1  1  1  2  2  3  3  4  4  5  5  6  6  7  7  8  8  9  9 10]\n"
     ]
    }
   ],
   "source": [
    "arr5 = np.linspace(1, 10, 20, dtype=\"int\")\n",
    "print(arr5)\n"
   ]
  },
  {
   "cell_type": "markdown",
   "id": "fee4622b",
   "metadata": {},
   "source": [
    "## 2.4\n",
    "\n",
    "Run the following code to create an array of shape 4 x 4 and then use indexing to produce the outputs shown below."
   ]
  },
  {
   "cell_type": "code",
   "execution_count": 17,
   "id": "ce54aa24",
   "metadata": {},
   "outputs": [
    {
     "name": "stdout",
     "output_type": "stream",
     "text": [
      "[[ 1  2  3  4  5]\n",
      " [ 6  7  8  9 10]\n",
      " [11 12 13 14 15]\n",
      " [16 17 18 19 20]\n",
      " [21 22 23 24 25]]\n"
     ]
    }
   ],
   "source": [
    "import numpy as np\n",
    "a = np.arange(1, 26).reshape(5, -1)\n",
    "print(a)"
   ]
  },
  {
   "cell_type": "code",
   "execution_count": null,
   "id": "9fb30ef8",
   "metadata": {},
   "outputs": [],
   "source": [
    "20"
   ]
  },
  {
   "cell_type": "code",
   "execution_count": 21,
   "id": "e752079a",
   "metadata": {},
   "outputs": [
    {
     "name": "stdout",
     "output_type": "stream",
     "text": [
      "20\n"
     ]
    }
   ],
   "source": [
    "print(a[3, 4])"
   ]
  },
  {
   "cell_type": "markdown",
   "id": "24c2d6c3",
   "metadata": {},
   "source": [
    "```python\n",
    "array([[ 9, 10],\n",
    "       [14, 15],\n",
    "       [19, 20],\n",
    "       [24, 25]])\n",
    "```"
   ]
  },
  {
   "cell_type": "code",
   "execution_count": 107,
   "id": "d86f1c2f",
   "metadata": {},
   "outputs": [
    {
     "data": {
      "text/plain": [
       "array([[ 9, 10],\n",
       "       [14, 15],\n",
       "       [19, 20],\n",
       "       [24, 25]])"
      ]
     },
     "execution_count": 107,
     "metadata": {},
     "output_type": "execute_result"
    }
   ],
   "source": [
    "# Code come here\n",
    "import numpy as np\n",
    "a = np.arange(1, 26).reshape(5, -1)\n",
    "\n",
    "\n",
    "print; (a[1:5, 3:5])"
   ]
  },
  {
   "cell_type": "markdown",
   "id": "984bb786",
   "metadata": {},
   "source": [
    "```python\n",
    "array([ 6,  7,  8,  9, 10])\n",
    "```"
   ]
  },
  {
   "cell_type": "code",
   "execution_count": 109,
   "id": "943ec85c",
   "metadata": {},
   "outputs": [
    {
     "data": {
      "text/plain": [
       "array([ 6,  7,  8,  9, 10])"
      ]
     },
     "execution_count": 109,
     "metadata": {},
     "output_type": "execute_result"
    }
   ],
   "source": [
    "a = np.arange(1, 26).reshape(5, -1)\n",
    "\n",
    "print;(a[1, 0:5])"
   ]
  },
  {
   "cell_type": "markdown",
   "id": "a8e576e0",
   "metadata": {},
   "source": [
    "## 2.5 \n",
    "\n",
    "Calculate the sum of all the numbers in `a`."
   ]
  },
  {
   "cell_type": "code",
   "execution_count": 119,
   "id": "bd34b207",
   "metadata": {},
   "outputs": [
    {
     "data": {
      "text/plain": [
       "325"
      ]
     },
     "execution_count": 119,
     "metadata": {},
     "output_type": "execute_result"
    }
   ],
   "source": [
    "a = np.arange(1, 26).reshape(5, -1)\n",
    "\n",
    "np.sum(a)"
   ]
  },
  {
   "cell_type": "markdown",
   "id": "50c3950b",
   "metadata": {},
   "source": [
    "## 2.6 \n",
    "\n",
    "Calculate the sum of each row in `a`."
   ]
  },
  {
   "cell_type": "code",
   "execution_count": 134,
   "id": "de620d7d",
   "metadata": {},
   "outputs": [
    {
     "name": "stdout",
     "output_type": "stream",
     "text": [
      "[[ 1  2  3  4  5]\n",
      " [ 6  7  8  9 10]\n",
      " [11 12 13 14 15]\n",
      " [16 17 18 19 20]\n",
      " [21 22 23 24 25]]\n",
      "\n",
      "[ 15  40  65  90 115]\n"
     ]
    }
   ],
   "source": [
    "a = np.arange(1, 26).reshape(5, -1)\n",
    "print(a)\n",
    "print(\"\")\n",
    "sums = print(np.sum(a,axis=1))"
   ]
  },
  {
   "cell_type": "markdown",
   "id": "ea9b2c11",
   "metadata": {},
   "source": [
    "## 2.7 \n",
    "\n",
    "Extract all values of `a` greater than the mean of `a` (hint: use a boolean mask)."
   ]
  },
  {
   "cell_type": "code",
   "execution_count": 141,
   "id": "aef9b210",
   "metadata": {},
   "outputs": [
    {
     "name": "stdout",
     "output_type": "stream",
     "text": [
      "13.0\n",
      "[14 15 16 17 18 19 20 21 22 23 24 25]\n"
     ]
    }
   ],
   "source": [
    "a = np.arange(1, 26).reshape(5, -1)\n",
    "mean= np.mean(a)\n",
    "print(mean)\n",
    "\n",
    "arrAbool = a[(a>mean)]\n",
    "\n",
    "print(arrAbool)"
   ]
  },
  {
   "cell_type": "markdown",
   "id": "9c31a0e1",
   "metadata": {},
   "source": [
    "# Practicing Pandas"
   ]
  },
  {
   "cell_type": "markdown",
   "id": "61c04b0c",
   "metadata": {},
   "source": [
    "## 2.8\n",
    "\n",
    "In this set of practice exercises we'll be investigating the carbon footprint of different foods. \n",
    "\n",
    "We'll be leveraging a dataset compiled by [Kasia Kulma](https://r-tastic.co.uk/post/from-messy-to-tidy/) and contributed to [R's Tidy Tuesday project](https://github.com/rfordatascience/tidytuesday).\n",
    "\n",
    "Start by importing pandas with the alias `pd`."
   ]
  },
  {
   "cell_type": "code",
   "execution_count": 142,
   "id": "8b9ede0d",
   "metadata": {},
   "outputs": [],
   "source": [
    "import pandas as pd"
   ]
  },
  {
   "cell_type": "markdown",
   "id": "3d39a2d7",
   "metadata": {},
   "source": [
    "## 2.9 \n",
    "\n",
    "The dataset we'll be working with has the following columns:\n",
    "\n",
    "|column      |description |\n",
    "|:-------------|:-----------|\n",
    "|country       | Country Name |\n",
    "|food_category | Food Category |\n",
    "|consumption   | Consumption (kg/person/year) |\n",
    "|co2_emmission | Co2 Emission (Kg CO2/person/year) |\n",
    "\n",
    "\n",
    "Import the dataset as a dataframe named `df` from this url: <https://raw.githubusercontent.com/rfordatascience/tidytuesday/master/data/2020/2020-02-18/food_consumption.csv>"
   ]
  },
  {
   "cell_type": "code",
   "execution_count": 143,
   "id": "b39d8ebb",
   "metadata": {},
   "outputs": [
    {
     "data": {
      "text/html": [
       "<div>\n",
       "<style scoped>\n",
       "    .dataframe tbody tr th:only-of-type {\n",
       "        vertical-align: middle;\n",
       "    }\n",
       "\n",
       "    .dataframe tbody tr th {\n",
       "        vertical-align: top;\n",
       "    }\n",
       "\n",
       "    .dataframe thead th {\n",
       "        text-align: right;\n",
       "    }\n",
       "</style>\n",
       "<table border=\"1\" class=\"dataframe\">\n",
       "  <thead>\n",
       "    <tr style=\"text-align: right;\">\n",
       "      <th></th>\n",
       "      <th>country</th>\n",
       "      <th>food_category</th>\n",
       "      <th>consumption</th>\n",
       "      <th>co2_emmission</th>\n",
       "    </tr>\n",
       "  </thead>\n",
       "  <tbody>\n",
       "    <tr>\n",
       "      <th>0</th>\n",
       "      <td>Argentina</td>\n",
       "      <td>Pork</td>\n",
       "      <td>10.51</td>\n",
       "      <td>37.20</td>\n",
       "    </tr>\n",
       "    <tr>\n",
       "      <th>1</th>\n",
       "      <td>Argentina</td>\n",
       "      <td>Poultry</td>\n",
       "      <td>38.66</td>\n",
       "      <td>41.53</td>\n",
       "    </tr>\n",
       "    <tr>\n",
       "      <th>2</th>\n",
       "      <td>Argentina</td>\n",
       "      <td>Beef</td>\n",
       "      <td>55.48</td>\n",
       "      <td>1712.00</td>\n",
       "    </tr>\n",
       "    <tr>\n",
       "      <th>3</th>\n",
       "      <td>Argentina</td>\n",
       "      <td>Lamb &amp; Goat</td>\n",
       "      <td>1.56</td>\n",
       "      <td>54.63</td>\n",
       "    </tr>\n",
       "    <tr>\n",
       "      <th>4</th>\n",
       "      <td>Argentina</td>\n",
       "      <td>Fish</td>\n",
       "      <td>4.36</td>\n",
       "      <td>6.96</td>\n",
       "    </tr>\n",
       "    <tr>\n",
       "      <th>5</th>\n",
       "      <td>Argentina</td>\n",
       "      <td>Eggs</td>\n",
       "      <td>11.39</td>\n",
       "      <td>10.46</td>\n",
       "    </tr>\n",
       "    <tr>\n",
       "      <th>6</th>\n",
       "      <td>Argentina</td>\n",
       "      <td>Milk - inc. cheese</td>\n",
       "      <td>195.08</td>\n",
       "      <td>277.87</td>\n",
       "    </tr>\n",
       "    <tr>\n",
       "      <th>7</th>\n",
       "      <td>Argentina</td>\n",
       "      <td>Wheat and Wheat Products</td>\n",
       "      <td>103.11</td>\n",
       "      <td>19.66</td>\n",
       "    </tr>\n",
       "    <tr>\n",
       "      <th>8</th>\n",
       "      <td>Argentina</td>\n",
       "      <td>Rice</td>\n",
       "      <td>8.77</td>\n",
       "      <td>11.22</td>\n",
       "    </tr>\n",
       "    <tr>\n",
       "      <th>9</th>\n",
       "      <td>Argentina</td>\n",
       "      <td>Soybeans</td>\n",
       "      <td>0.00</td>\n",
       "      <td>0.00</td>\n",
       "    </tr>\n",
       "  </tbody>\n",
       "</table>\n",
       "</div>"
      ],
      "text/plain": [
       "     country             food_category  consumption  co2_emmission\n",
       "0  Argentina                      Pork        10.51          37.20\n",
       "1  Argentina                   Poultry        38.66          41.53\n",
       "2  Argentina                      Beef        55.48        1712.00\n",
       "3  Argentina               Lamb & Goat         1.56          54.63\n",
       "4  Argentina                      Fish         4.36           6.96\n",
       "5  Argentina                      Eggs        11.39          10.46\n",
       "6  Argentina        Milk - inc. cheese       195.08         277.87\n",
       "7  Argentina  Wheat and Wheat Products       103.11          19.66\n",
       "8  Argentina                      Rice         8.77          11.22\n",
       "9  Argentina                  Soybeans         0.00           0.00"
      ]
     },
     "execution_count": 143,
     "metadata": {},
     "output_type": "execute_result"
    }
   ],
   "source": [
    "food = pd.read_csv(\"https://raw.githubusercontent.com/rfordatascience/tidytuesday/master/data/2020/2020-02-18/food_consumption.csv\", sep=\",\", header=0, encoding=\"ISO-8859-1\")\n",
    "food.head(10)"
   ]
  },
  {
   "cell_type": "markdown",
   "id": "f903c8a1",
   "metadata": {},
   "source": [
    "## 2.10 \n",
    "\n",
    "How many rows and columns are there in the dataframe?"
   ]
  },
  {
   "cell_type": "code",
   "execution_count": 144,
   "id": "39cd4f89",
   "metadata": {},
   "outputs": [
    {
     "data": {
      "text/plain": [
       "1430"
      ]
     },
     "execution_count": 144,
     "metadata": {},
     "output_type": "execute_result"
    }
   ],
   "source": [
    "len(food)\n",
    "\n",
    "#Four columns, exlcuding the index and 1430 rows"
   ]
  },
  {
   "cell_type": "markdown",
   "id": "8f0b87b0",
   "metadata": {},
   "source": [
    "## 2.11\n",
    "\n",
    "What is the mean `co2_emission` of the whole dataset?"
   ]
  },
  {
   "cell_type": "code",
   "execution_count": 156,
   "id": "8a8b3edc",
   "metadata": {},
   "outputs": [
    {
     "name": "stdout",
     "output_type": "stream",
     "text": [
      "         country             food_category  consumption  co2_emmission\n",
      "0      Argentina                      Pork        10.51          37.20\n",
      "1      Argentina                   Poultry        38.66          41.53\n",
      "2      Argentina                      Beef        55.48        1712.00\n",
      "3      Argentina               Lamb & Goat         1.56          54.63\n",
      "4      Argentina                      Fish         4.36           6.96\n",
      "...          ...                       ...          ...            ...\n",
      "1425  Bangladesh        Milk - inc. cheese        21.91          31.21\n",
      "1426  Bangladesh  Wheat and Wheat Products        17.47           3.33\n",
      "1427  Bangladesh                      Rice       171.73         219.76\n",
      "1428  Bangladesh                  Soybeans         0.61           0.27\n",
      "1429  Bangladesh   Nuts inc. Peanut Butter         0.72           1.27\n",
      "\n",
      "[1430 rows x 4 columns]\n",
      "74.383993006993\n"
     ]
    }
   ],
   "source": [
    "df= pd.DataFrame(food)\n",
    "\n",
    "print(df)\n",
    "\n",
    "dfMean = df[\"co2_emmission\"].mean()\n",
    "\n",
    "print(dfMean)"
   ]
  },
  {
   "cell_type": "markdown",
   "id": "1acb3cc5",
   "metadata": {},
   "source": [
    "## 2.12\n",
    "\n",
    "What is the maximum `co2_emmission` in the dataset and which food type and country does it belong to?"
   ]
  },
  {
   "cell_type": "code",
   "execution_count": 168,
   "id": "04f58ddd",
   "metadata": {},
   "outputs": [
    {
     "name": "stdout",
     "output_type": "stream",
     "text": [
      "1712.0\n",
      "<bound method NDFrame.head of      country food_category  consumption  co2_emmission\n",
      "2  Argentina          Beef        55.48         1712.0>\n"
     ]
    }
   ],
   "source": [
    "dfMean = df[\"co2_emmission\"].max()\n",
    "print(dfMean)\n",
    "\n",
    "food_co2 = df[(df[\"co2_emmission\"] == 1712.0)]\n",
    "print(food_co2.head(3))\n",
    "\n",
    "##The maxumum value is in Argentina, with 1712"
   ]
  },
  {
   "cell_type": "markdown",
   "id": "68ba75e4",
   "metadata": {},
   "source": [
    "## 2.13\n",
    "\n",
    "How many countries produce more than 1000 Kg CO2/person/year for at least one food type?"
   ]
  },
  {
   "cell_type": "code",
   "execution_count": 172,
   "id": "0dac7b68",
   "metadata": {},
   "outputs": [
    {
     "name": "stdout",
     "output_type": "stream",
     "text": [
      "       country food_category  consumption  co2_emmission\n",
      "2    Argentina          Beef        55.48        1712.00\n",
      "13   Australia          Beef        33.86        1044.85\n",
      "57         USA          Beef        36.24        1118.29\n",
      "90      Brazil          Beef        39.25        1211.17\n",
      "123    Bermuda          Beef        33.15        1022.94\n",
      "5\n"
     ]
    }
   ],
   "source": [
    "food_co2production = df[(df[\"co2_emmission\"] > 1000)]\n",
    "\n",
    "print(food_co2production.head(10))\n",
    "\n",
    "print(len(food_co2production))\n",
    "\n",
    "#Five"
   ]
  },
  {
   "cell_type": "markdown",
   "id": "507fe1cd",
   "metadata": {},
   "source": [
    "## 2.14\n",
    "\n",
    "Which country consumes the least amount of beef per person per year?\n"
   ]
  },
  {
   "cell_type": "code",
   "execution_count": 184,
   "id": "e4bf7f60",
   "metadata": {},
   "outputs": [
    {
     "name": "stdout",
     "output_type": "stream",
     "text": [
      "0.0\n",
      "      country food_category  consumption  co2_emmission\n",
      "1410  Liberia          Beef         0.78          24.07\n"
     ]
    }
   ],
   "source": [
    "##minimum\n",
    "\n",
    "dfmin = df[\"consumption\"].min()\n",
    "print(dfmin)\n",
    "\n",
    "subset_query = df.query('food_category==\"Beef\" and consumption < 0.79')\n",
    "print(subset_query)\n",
    "\n",
    "##The answer is Liberia, with a consumption of 0.78."
   ]
  },
  {
   "cell_type": "markdown",
   "id": "e40cbc79",
   "metadata": {},
   "source": [
    "## 2.15\n",
    "\n",
    "What is the total emissions of all the meat products (Pork, Poultry, Fish, Lamb & Goat, Beef) in the dataset combined?"
   ]
  },
  {
   "cell_type": "code",
   "execution_count": 273,
   "id": "932f7976",
   "metadata": {},
   "outputs": [
    {
     "name": "stdout",
     "output_type": "stream",
     "text": [
      "106369.10999999999\n",
      "food_category\n",
      "Beef                        48633.26\n",
      "Eggs                          974.95\n",
      "Fish                         3588.22\n",
      "Lamb & Goat                 11837.38\n",
      "Milk - inc. cheese          23290.00\n",
      "Nuts inc. Peanut Butter       951.99\n",
      "Pork                         7419.11\n",
      "Poultry                      2963.16\n",
      "Rice                         4886.91\n",
      "Soybeans                       50.35\n",
      "Wheat and Wheat Products     1773.78\n",
      "Name: co2_emmission, dtype: float64\n",
      "\n"
     ]
    }
   ],
   "source": [
    "##total emissions of all produtcs, meat and non-meat\n",
    "dfsum = df[\"co2_emmission\"].sum()\n",
    "print(dfsum)\n",
    "\n",
    "\n",
    "SumGrouped = df.groupby(['food_category'])['co2_emmission'].sum()\n",
    "print(SumGrouped)\n",
    "\n",
    "print(\"\")\n",
    "\n"
   ]
  },
  {
   "cell_type": "code",
   "execution_count": null,
   "id": "47ede46b-320a-49fd-a1ae-d581c3fc7871",
   "metadata": {},
   "outputs": [],
   "source": []
  },
  {
   "cell_type": "code",
   "execution_count": 276,
   "id": "f8504e3e-a37c-4de0-8582-11c1b055c790",
   "metadata": {},
   "outputs": [
    {
     "name": "stdout",
     "output_type": "stream",
     "text": [
      "     country             food_category  consumption  co2_emmission\n",
      "0  Argentina                      Pork        10.51          37.20\n",
      "1  Argentina                   Poultry        38.66          41.53\n",
      "2  Argentina                      Beef        55.48        1712.00\n",
      "3  Argentina               Lamb & Goat         1.56          54.63\n",
      "4  Argentina                      Fish         4.36           6.96\n",
      "5  Argentina                      Eggs        11.39          10.46\n",
      "6  Argentina        Milk - inc. cheese       195.08         277.87\n",
      "7  Argentina  Wheat and Wheat Products       103.11          19.66\n",
      "8  Argentina                      Rice         8.77          11.22\n",
      "9  Argentina                  Soybeans         0.00           0.00\n",
      "\n",
      "Beef Type Printed\n",
      "\n",
      "           country food_category  consumption  co2_emmission\n",
      "2        Argentina          Beef        55.48        1712.00\n",
      "13       Australia          Beef        33.86        1044.85\n",
      "24         Albania          Beef        22.50         694.30\n",
      "35         Iceland          Beef        13.36         412.26\n",
      "46     New Zealand          Beef        22.49         693.99\n",
      "...            ...           ...          ...            ...\n",
      "1377  Sierra Leone          Beef         1.99          61.41\n",
      "1388     Sri Lanka          Beef         1.38          42.58\n",
      "1399     Indonesia          Beef         2.59          79.92\n",
      "1410       Liberia          Beef         0.78          24.07\n",
      "1421    Bangladesh          Beef         1.28          39.50\n",
      "\n",
      "[130 rows x 4 columns]\n",
      "           country food_category  consumption  co2_emmission\n",
      "4        Argentina          Fish         4.36           6.96\n",
      "15       Australia          Fish        17.69          28.25\n",
      "26         Albania          Fish         3.85           6.15\n",
      "37         Iceland          Fish        74.41         118.81\n",
      "48     New Zealand          Fish        20.36          32.51\n",
      "...            ...           ...          ...            ...\n",
      "1379  Sierra Leone          Fish        32.03          51.14\n",
      "1390     Sri Lanka          Fish        24.92          39.79\n",
      "1401     Indonesia          Fish        25.65          40.95\n",
      "1412       Liberia          Fish         4.13           6.59\n",
      "1423    Bangladesh          Fish        18.07          28.85\n",
      "\n",
      "[130 rows x 4 columns]\n",
      "           country food_category  consumption  co2_emmission\n",
      "1        Argentina       Poultry        38.66          41.53\n",
      "12       Australia       Poultry        46.12          49.54\n",
      "23         Albania       Poultry        13.23          14.21\n",
      "34         Iceland       Poultry        26.87          28.86\n",
      "45     New Zealand       Poultry        34.98          37.58\n",
      "...            ...           ...          ...            ...\n",
      "1376  Sierra Leone       Poultry         4.97           5.34\n",
      "1387     Sri Lanka       Poultry         4.96           5.33\n",
      "1398     Indonesia       Poultry         7.50           8.06\n",
      "1409       Liberia       Poultry         8.91           9.57\n",
      "1420    Bangladesh       Poultry         1.40           1.50\n",
      "\n",
      "[130 rows x 4 columns]\n",
      "           country food_category  consumption  co2_emmission\n",
      "3        Argentina   Lamb & Goat         1.56          54.63\n",
      "14       Australia   Lamb & Goat         9.87         345.65\n",
      "25         Albania   Lamb & Goat        15.32         536.50\n",
      "36         Iceland   Lamb & Goat        21.12         739.62\n",
      "47     New Zealand   Lamb & Goat        18.91         662.23\n",
      "...            ...           ...          ...            ...\n",
      "1378  Sierra Leone   Lamb & Goat         0.65          22.76\n",
      "1389     Sri Lanka   Lamb & Goat         0.09           3.15\n",
      "1400     Indonesia   Lamb & Goat         0.46          16.11\n",
      "1411       Liberia   Lamb & Goat         0.48          16.81\n",
      "1422    Bangladesh   Lamb & Goat         1.33          46.58\n",
      "\n",
      "[130 rows x 4 columns]\n",
      "           country food_category  consumption  co2_emmission\n",
      "0        Argentina          Pork        10.51          37.20\n",
      "11       Australia          Pork        24.14          85.44\n",
      "22         Albania          Pork        10.88          38.51\n",
      "33         Iceland          Pork        21.69          76.77\n",
      "44     New Zealand          Pork        22.29          78.90\n",
      "...            ...           ...          ...            ...\n",
      "1375  Sierra Leone          Pork         1.22           4.32\n",
      "1386     Sri Lanka          Pork         0.05           0.18\n",
      "1397     Indonesia          Pork         2.98          10.55\n",
      "1408       Liberia          Pork         4.01          14.19\n",
      "1419    Bangladesh          Pork         0.00           0.00\n",
      "\n",
      "[130 rows x 4 columns]\n",
      "\n",
      "Summed Beef Type\n",
      "\n",
      "\n",
      "Summed Beef\n",
      "\n",
      "food_category\n",
      "Beef    48633.26\n",
      "Name: co2_emmission, dtype: float64\n",
      "\n",
      "           country food_category  consumption  co2_emmission\n",
      "2        Argentina          Beef        55.48        1712.00\n",
      "13       Australia          Beef        33.86        1044.85\n",
      "24         Albania          Beef        22.50         694.30\n",
      "35         Iceland          Beef        13.36         412.26\n",
      "46     New Zealand          Beef        22.49         693.99\n",
      "...            ...           ...          ...            ...\n",
      "1375  Sierra Leone          Pork         1.22           4.32\n",
      "1386     Sri Lanka          Pork         0.05           0.18\n",
      "1397     Indonesia          Pork         2.98          10.55\n",
      "1408       Liberia          Pork         4.01          14.19\n",
      "1419    Bangladesh          Pork         0.00           0.00\n",
      "\n",
      "[650 rows x 4 columns]\n",
      "food_category\n",
      "Beef           48633.26\n",
      "Fish            3588.22\n",
      "Lamb & Goat    11837.38\n",
      "Pork            7419.11\n",
      "Poultry         2963.16\n",
      "Name: co2_emmission, dtype: float64\n",
      "\n",
      "1430\n",
      "650\n",
      "74441.13\n"
     ]
    }
   ],
   "source": [
    "df= pd.DataFrame(food)\n",
    "df.columns =[column.replace(\" \", \"_\") for column in df.columns]\n",
    "print(df.head(10))\n",
    "\n",
    "print(\"\")\n",
    "print(\"Beef Type Printed\")\n",
    "print(\"\")\n",
    "\n",
    "\n",
    "\n",
    "beef_type = df[df.food_category == 'Beef']\n",
    "fish_type = df[df.food_category == 'Fish']\n",
    "poultry_type = df[df.food_category == 'Poultry']\n",
    "lamb_type = df[df.food_category == 'Lamb & Goat']\n",
    "pork_type = df[df.food_category == 'Pork']\n",
    "\n",
    "print(beef_type)\n",
    "print(fish_type)\n",
    "print(poultry_type)\n",
    "print(lamb_type)\n",
    "print(pork_type)\n",
    "\n",
    "print(\"\")\n",
    "print(\"Summed Beef Type\")\n",
    "print(\"\")\n",
    "\n",
    "print(\"\")\n",
    "print(\"Summed Beef\")\n",
    "print(\"\")\n",
    "\n",
    "BeefSumGrouped = beef_type.groupby(['food_category'])['co2_emmission'].sum()\n",
    "print(BeefSumGrouped)\n",
    "\n",
    "print(\"\")\n",
    "\n",
    "meat_products = pd.concat([beef_type, fish_type, poultry_type, lamb_type, pork_type])\n",
    "print(meat_products)\n",
    "\n",
    "MeatSumGrouped = meat_products.groupby(['food_category'])['co2_emmission'].sum()\n",
    "print(MeatSumGrouped)\n",
    "\n",
    "print(\"\")\n",
    "\n",
    "meat_merged = pd.concat([beef_type, fish_type, poultry_type, lamb_type, pork_type])\n",
    "print(len(df))\n",
    "print(len(meat_merged))\n",
    "\n",
    "MeatsSum = meat_merged[\"co2_emmission\"].sum()\n",
    "print(MeatsSum)\n"
   ]
  },
  {
   "cell_type": "markdown",
   "id": "2e01f760",
   "metadata": {},
   "source": [
    "# 2.16 \n",
    "\n",
    "What is the total emissions of all other (non-meat) products in the dataset combined?"
   ]
  },
  {
   "cell_type": "code",
   "execution_count": 277,
   "id": "6d0c8ac4",
   "metadata": {},
   "outputs": [
    {
     "name": "stdout",
     "output_type": "stream",
     "text": [
      "           country             food_category  consumption  co2_emmission\n",
      "5        Argentina                      Eggs        11.39          10.46\n",
      "16       Australia                      Eggs         8.51           7.82\n",
      "27         Albania                      Eggs        12.45          11.44\n",
      "38         Iceland                      Eggs         8.24           7.57\n",
      "49     New Zealand                      Eggs         9.91           9.10\n",
      "...            ...                       ...          ...            ...\n",
      "1382  Sierra Leone  Wheat and Wheat Products         8.72           1.66\n",
      "1393     Sri Lanka  Wheat and Wheat Products        37.01           7.06\n",
      "1404     Indonesia  Wheat and Wheat Products        25.45           4.85\n",
      "1415       Liberia  Wheat and Wheat Products        10.95           2.09\n",
      "1426    Bangladesh  Wheat and Wheat Products        17.47           3.33\n",
      "\n",
      "[650 rows x 4 columns]\n",
      "Non meats sum grouped\n",
      "food_category\n",
      "Eggs                         974.95\n",
      "Nuts inc. Peanut Butter      951.99\n",
      "Rice                        4886.91\n",
      "Soybeans                      50.35\n",
      "Wheat and Wheat Products    1773.78\n",
      "Name: co2_emmission, dtype: float64\n",
      "8637.98\n"
     ]
    }
   ],
   "source": [
    "df= pd.DataFrame(food)\n",
    "df.columns =[column.replace(\" \", \"_\") for column in df.columns]\n",
    "\n",
    "egg_type = df[df.food_category == 'Eggs']\n",
    "milk_type = df[df.food_category == 'Milk - inc. Peanut Butter']\n",
    "nuts_type = df[df.food_category == 'Nuts inc. Peanut Butter']\n",
    "rice_type = df[df.food_category == 'Rice']\n",
    "soy_type = df[df.food_category == 'Soybeans']\n",
    "wheat_type = df[df.food_category == 'Wheat and Wheat Products']\n",
    "\n",
    "nonmeat_products = pd.concat([egg_type, milk_type, nuts_type, rice_type, soy_type, wheat_type])\n",
    "print(nonmeat_products)\n",
    "\n",
    "print(\"Non meats sum grouped\")\n",
    "NonMeatSumGrouped = nonmeat_products.groupby(['food_category'])['co2_emmission'].sum()\n",
    "print(NonMeatSumGrouped)\n",
    "\n",
    "nonmeat_merged = pd.concat([egg_type, milk_type, nuts_type, rice_type, soy_type, wheat_type])\n",
    "\n",
    "NonMeatsSum = nonmeat_merged[\"co2_emmission\"].sum()\n",
    "print(NonMeatsSum)\n"
   ]
  },
  {
   "cell_type": "markdown",
   "id": "24d092f5",
   "metadata": {},
   "source": [
    "## Well done!\n",
    "\n",
    "That's all from this week, if you have any questions, do not forget to ask the TAs for assistance."
   ]
  }
 ],
 "metadata": {
  "kernelspec": {
   "display_name": "Python 3 (ipykernel)",
   "language": "python",
   "name": "python3"
  },
  "language_info": {
   "codemirror_mode": {
    "name": "ipython",
    "version": 3
   },
   "file_extension": ".py",
   "mimetype": "text/x-python",
   "name": "python",
   "nbconvert_exporter": "python",
   "pygments_lexer": "ipython3",
   "version": "3.10.9"
  },
  "vscode": {
   "interpreter": {
    "hash": "a62a218f45948969006c944db2ca1c519af623da5e08f864ae6aafcacb945df1"
   }
  }
 },
 "nbformat": 4,
 "nbformat_minor": 5
}
